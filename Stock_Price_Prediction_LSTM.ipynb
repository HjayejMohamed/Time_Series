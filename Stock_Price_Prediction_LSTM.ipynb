{
  "nbformat": 4,
  "nbformat_minor": 0,
  "metadata": {
    "colab": {
      "provenance": [],
      "collapsed_sections": [],
      "authorship_tag": "ABX9TyPNlUu4t2CXXp+fB0+HbGnS",
      "include_colab_link": true
    },
    "kernelspec": {
      "name": "python3",
      "display_name": "Python 3"
    },
    "language_info": {
      "name": "python"
    }
  },
  "cells": [
    {
      "cell_type": "markdown",
      "metadata": {
        "id": "view-in-github",
        "colab_type": "text"
      },
      "source": [
        "<a href=\"https://colab.research.google.com/github/HjayejMohamed/Time_Series/blob/main/Stock_Price_Prediction_LSTM.ipynb\" target=\"_parent\"><img src=\"https://colab.research.google.com/assets/colab-badge.svg\" alt=\"Open In Colab\"/></a>"
      ]
    },
    {
      "cell_type": "code",
      "execution_count": 54,
      "metadata": {
        "id": "ea9og6M7mAZR"
      },
      "outputs": [],
      "source": [
        "import pandas as pd\n",
        "import numpy as np\n",
        "import matplotlib.pyplot as plt\n",
        "from tensorflow.keras.layers import Dense ,LSTM\n",
        "from tensorflow.keras.models import Sequential\n",
        "from sklearn.metrics import mean_squared_error"
      ]
    },
    {
      "cell_type": "code",
      "source": [
        "df=pd.read_csv('/content/AAPL.csv')"
      ],
      "metadata": {
        "id": "deqG6Eojmz1G"
      },
      "execution_count": 55,
      "outputs": []
    },
    {
      "cell_type": "code",
      "source": [
        "df.head()"
      ],
      "metadata": {
        "colab": {
          "base_uri": "https://localhost:8080/",
          "height": 354
        },
        "id": "ItEU2hdQm8Zp",
        "outputId": "151aa744-e3ac-440a-b5f8-42f0fb2bd7f4"
      },
      "execution_count": 56,
      "outputs": [
        {
          "output_type": "execute_result",
          "data": {
            "text/plain": [
              "   Unnamed: 0 symbol                       date    close     high     low  \\\n",
              "0           0   AAPL  2015-05-27 00:00:00+00:00  132.045  132.260  130.05   \n",
              "1           1   AAPL  2015-05-28 00:00:00+00:00  131.780  131.950  131.10   \n",
              "2           2   AAPL  2015-05-29 00:00:00+00:00  130.280  131.450  129.90   \n",
              "3           3   AAPL  2015-06-01 00:00:00+00:00  130.535  131.390  130.05   \n",
              "4           4   AAPL  2015-06-02 00:00:00+00:00  129.960  130.655  129.32   \n",
              "\n",
              "     open    volume    adjClose     adjHigh      adjLow     adjOpen  \\\n",
              "0  130.34  45833246  121.682558  121.880685  119.844118  120.111360   \n",
              "1  131.86  30733309  121.438354  121.595013  120.811718  121.512076   \n",
              "2  131.23  50884452  120.056069  121.134251  119.705890  120.931516   \n",
              "3  131.20  32112797  120.291057  121.078960  119.844118  120.903870   \n",
              "4  129.86  33667627  119.761181  120.401640  119.171406  119.669029   \n",
              "\n",
              "   adjVolume  divCash  splitFactor  \n",
              "0   45833246      0.0          1.0  \n",
              "1   30733309      0.0          1.0  \n",
              "2   50884452      0.0          1.0  \n",
              "3   32112797      0.0          1.0  \n",
              "4   33667627      0.0          1.0  "
            ],
            "text/html": [
              "\n",
              "  <div id=\"df-a48331d0-bfbb-4a8d-a3fe-9be2d82d3de7\">\n",
              "    <div class=\"colab-df-container\">\n",
              "      <div>\n",
              "<style scoped>\n",
              "    .dataframe tbody tr th:only-of-type {\n",
              "        vertical-align: middle;\n",
              "    }\n",
              "\n",
              "    .dataframe tbody tr th {\n",
              "        vertical-align: top;\n",
              "    }\n",
              "\n",
              "    .dataframe thead th {\n",
              "        text-align: right;\n",
              "    }\n",
              "</style>\n",
              "<table border=\"1\" class=\"dataframe\">\n",
              "  <thead>\n",
              "    <tr style=\"text-align: right;\">\n",
              "      <th></th>\n",
              "      <th>Unnamed: 0</th>\n",
              "      <th>symbol</th>\n",
              "      <th>date</th>\n",
              "      <th>close</th>\n",
              "      <th>high</th>\n",
              "      <th>low</th>\n",
              "      <th>open</th>\n",
              "      <th>volume</th>\n",
              "      <th>adjClose</th>\n",
              "      <th>adjHigh</th>\n",
              "      <th>adjLow</th>\n",
              "      <th>adjOpen</th>\n",
              "      <th>adjVolume</th>\n",
              "      <th>divCash</th>\n",
              "      <th>splitFactor</th>\n",
              "    </tr>\n",
              "  </thead>\n",
              "  <tbody>\n",
              "    <tr>\n",
              "      <th>0</th>\n",
              "      <td>0</td>\n",
              "      <td>AAPL</td>\n",
              "      <td>2015-05-27 00:00:00+00:00</td>\n",
              "      <td>132.045</td>\n",
              "      <td>132.260</td>\n",
              "      <td>130.05</td>\n",
              "      <td>130.34</td>\n",
              "      <td>45833246</td>\n",
              "      <td>121.682558</td>\n",
              "      <td>121.880685</td>\n",
              "      <td>119.844118</td>\n",
              "      <td>120.111360</td>\n",
              "      <td>45833246</td>\n",
              "      <td>0.0</td>\n",
              "      <td>1.0</td>\n",
              "    </tr>\n",
              "    <tr>\n",
              "      <th>1</th>\n",
              "      <td>1</td>\n",
              "      <td>AAPL</td>\n",
              "      <td>2015-05-28 00:00:00+00:00</td>\n",
              "      <td>131.780</td>\n",
              "      <td>131.950</td>\n",
              "      <td>131.10</td>\n",
              "      <td>131.86</td>\n",
              "      <td>30733309</td>\n",
              "      <td>121.438354</td>\n",
              "      <td>121.595013</td>\n",
              "      <td>120.811718</td>\n",
              "      <td>121.512076</td>\n",
              "      <td>30733309</td>\n",
              "      <td>0.0</td>\n",
              "      <td>1.0</td>\n",
              "    </tr>\n",
              "    <tr>\n",
              "      <th>2</th>\n",
              "      <td>2</td>\n",
              "      <td>AAPL</td>\n",
              "      <td>2015-05-29 00:00:00+00:00</td>\n",
              "      <td>130.280</td>\n",
              "      <td>131.450</td>\n",
              "      <td>129.90</td>\n",
              "      <td>131.23</td>\n",
              "      <td>50884452</td>\n",
              "      <td>120.056069</td>\n",
              "      <td>121.134251</td>\n",
              "      <td>119.705890</td>\n",
              "      <td>120.931516</td>\n",
              "      <td>50884452</td>\n",
              "      <td>0.0</td>\n",
              "      <td>1.0</td>\n",
              "    </tr>\n",
              "    <tr>\n",
              "      <th>3</th>\n",
              "      <td>3</td>\n",
              "      <td>AAPL</td>\n",
              "      <td>2015-06-01 00:00:00+00:00</td>\n",
              "      <td>130.535</td>\n",
              "      <td>131.390</td>\n",
              "      <td>130.05</td>\n",
              "      <td>131.20</td>\n",
              "      <td>32112797</td>\n",
              "      <td>120.291057</td>\n",
              "      <td>121.078960</td>\n",
              "      <td>119.844118</td>\n",
              "      <td>120.903870</td>\n",
              "      <td>32112797</td>\n",
              "      <td>0.0</td>\n",
              "      <td>1.0</td>\n",
              "    </tr>\n",
              "    <tr>\n",
              "      <th>4</th>\n",
              "      <td>4</td>\n",
              "      <td>AAPL</td>\n",
              "      <td>2015-06-02 00:00:00+00:00</td>\n",
              "      <td>129.960</td>\n",
              "      <td>130.655</td>\n",
              "      <td>129.32</td>\n",
              "      <td>129.86</td>\n",
              "      <td>33667627</td>\n",
              "      <td>119.761181</td>\n",
              "      <td>120.401640</td>\n",
              "      <td>119.171406</td>\n",
              "      <td>119.669029</td>\n",
              "      <td>33667627</td>\n",
              "      <td>0.0</td>\n",
              "      <td>1.0</td>\n",
              "    </tr>\n",
              "  </tbody>\n",
              "</table>\n",
              "</div>\n",
              "      <button class=\"colab-df-convert\" onclick=\"convertToInteractive('df-a48331d0-bfbb-4a8d-a3fe-9be2d82d3de7')\"\n",
              "              title=\"Convert this dataframe to an interactive table.\"\n",
              "              style=\"display:none;\">\n",
              "        \n",
              "  <svg xmlns=\"http://www.w3.org/2000/svg\" height=\"24px\"viewBox=\"0 0 24 24\"\n",
              "       width=\"24px\">\n",
              "    <path d=\"M0 0h24v24H0V0z\" fill=\"none\"/>\n",
              "    <path d=\"M18.56 5.44l.94 2.06.94-2.06 2.06-.94-2.06-.94-.94-2.06-.94 2.06-2.06.94zm-11 1L8.5 8.5l.94-2.06 2.06-.94-2.06-.94L8.5 2.5l-.94 2.06-2.06.94zm10 10l.94 2.06.94-2.06 2.06-.94-2.06-.94-.94-2.06-.94 2.06-2.06.94z\"/><path d=\"M17.41 7.96l-1.37-1.37c-.4-.4-.92-.59-1.43-.59-.52 0-1.04.2-1.43.59L10.3 9.45l-7.72 7.72c-.78.78-.78 2.05 0 2.83L4 21.41c.39.39.9.59 1.41.59.51 0 1.02-.2 1.41-.59l7.78-7.78 2.81-2.81c.8-.78.8-2.07 0-2.86zM5.41 20L4 18.59l7.72-7.72 1.47 1.35L5.41 20z\"/>\n",
              "  </svg>\n",
              "      </button>\n",
              "      \n",
              "  <style>\n",
              "    .colab-df-container {\n",
              "      display:flex;\n",
              "      flex-wrap:wrap;\n",
              "      gap: 12px;\n",
              "    }\n",
              "\n",
              "    .colab-df-convert {\n",
              "      background-color: #E8F0FE;\n",
              "      border: none;\n",
              "      border-radius: 50%;\n",
              "      cursor: pointer;\n",
              "      display: none;\n",
              "      fill: #1967D2;\n",
              "      height: 32px;\n",
              "      padding: 0 0 0 0;\n",
              "      width: 32px;\n",
              "    }\n",
              "\n",
              "    .colab-df-convert:hover {\n",
              "      background-color: #E2EBFA;\n",
              "      box-shadow: 0px 1px 2px rgba(60, 64, 67, 0.3), 0px 1px 3px 1px rgba(60, 64, 67, 0.15);\n",
              "      fill: #174EA6;\n",
              "    }\n",
              "\n",
              "    [theme=dark] .colab-df-convert {\n",
              "      background-color: #3B4455;\n",
              "      fill: #D2E3FC;\n",
              "    }\n",
              "\n",
              "    [theme=dark] .colab-df-convert:hover {\n",
              "      background-color: #434B5C;\n",
              "      box-shadow: 0px 1px 3px 1px rgba(0, 0, 0, 0.15);\n",
              "      filter: drop-shadow(0px 1px 2px rgba(0, 0, 0, 0.3));\n",
              "      fill: #FFFFFF;\n",
              "    }\n",
              "  </style>\n",
              "\n",
              "      <script>\n",
              "        const buttonEl =\n",
              "          document.querySelector('#df-a48331d0-bfbb-4a8d-a3fe-9be2d82d3de7 button.colab-df-convert');\n",
              "        buttonEl.style.display =\n",
              "          google.colab.kernel.accessAllowed ? 'block' : 'none';\n",
              "\n",
              "        async function convertToInteractive(key) {\n",
              "          const element = document.querySelector('#df-a48331d0-bfbb-4a8d-a3fe-9be2d82d3de7');\n",
              "          const dataTable =\n",
              "            await google.colab.kernel.invokeFunction('convertToInteractive',\n",
              "                                                     [key], {});\n",
              "          if (!dataTable) return;\n",
              "\n",
              "          const docLinkHtml = 'Like what you see? Visit the ' +\n",
              "            '<a target=\"_blank\" href=https://colab.research.google.com/notebooks/data_table.ipynb>data table notebook</a>'\n",
              "            + ' to learn more about interactive tables.';\n",
              "          element.innerHTML = '';\n",
              "          dataTable['output_type'] = 'display_data';\n",
              "          await google.colab.output.renderOutput(dataTable, element);\n",
              "          const docLink = document.createElement('div');\n",
              "          docLink.innerHTML = docLinkHtml;\n",
              "          element.appendChild(docLink);\n",
              "        }\n",
              "      </script>\n",
              "    </div>\n",
              "  </div>\n",
              "  "
            ]
          },
          "metadata": {},
          "execution_count": 56
        }
      ]
    },
    {
      "cell_type": "code",
      "source": [
        "df1=df['close']"
      ],
      "metadata": {
        "id": "eY4DkODGm9_Y"
      },
      "execution_count": 57,
      "outputs": []
    },
    {
      "cell_type": "code",
      "source": [
        "df1[:5]"
      ],
      "metadata": {
        "colab": {
          "base_uri": "https://localhost:8080/"
        },
        "id": "Hj8dx_etnEhl",
        "outputId": "b3b52d63-4f1b-40ab-fbf3-9a7b3f7b0742"
      },
      "execution_count": 58,
      "outputs": [
        {
          "output_type": "execute_result",
          "data": {
            "text/plain": [
              "0    132.045\n",
              "1    131.780\n",
              "2    130.280\n",
              "3    130.535\n",
              "4    129.960\n",
              "Name: close, dtype: float64"
            ]
          },
          "metadata": {},
          "execution_count": 58
        }
      ]
    },
    {
      "cell_type": "code",
      "source": [
        "plt.plot(df1)"
      ],
      "metadata": {
        "colab": {
          "base_uri": "https://localhost:8080/",
          "height": 282
        },
        "id": "jzgqseecnHjN",
        "outputId": "90016c4f-d2d1-4b95-a0a3-6e40cc25bb62"
      },
      "execution_count": 59,
      "outputs": [
        {
          "output_type": "execute_result",
          "data": {
            "text/plain": [
              "[<matplotlib.lines.Line2D at 0x7f43f6f65510>]"
            ]
          },
          "metadata": {},
          "execution_count": 59
        },
        {
          "output_type": "display_data",
          "data": {
            "text/plain": [
              "<Figure size 432x288 with 1 Axes>"
            ],
            "image/png": "[encoded data removed]"
          },
          "metadata": {
            "needs_background": "light"
          }
        }
      ]
    },
    {
      "cell_type": "markdown",
      "source": [
        "# Scaling"
      ],
      "metadata": {
        "id": "bY5aThqY02dy"
      }
    },
    {
      "cell_type": "code",
      "source": [
        "from sklearn.preprocessing import MinMaxScaler\n",
        "scaler=MinMaxScaler(feature_range=(0,1))\n",
        "df1=scaler.fit_transform(np.array(df1).reshape(-1,1))"
      ],
      "metadata": {
        "id": "KkBnkvmGnOOT"
      },
      "execution_count": 60,
      "outputs": []
    },
    {
      "cell_type": "code",
      "source": [
        "df1[:10]"
      ],
      "metadata": {
        "colab": {
          "base_uri": "https://localhost:8080/"
        },
        "id": "UuMDeGtnnuAE",
        "outputId": "2858a855-6974-4e26-98b6-f2f2b01c5758"
      },
      "execution_count": 61,
      "outputs": [
        {
          "output_type": "execute_result",
          "data": {
            "text/plain": [
              "array([[0.17607447],\n",
              "       [0.17495567],\n",
              "       [0.16862282],\n",
              "       [0.1696994 ],\n",
              "       [0.16727181],\n",
              "       [0.16794731],\n",
              "       [0.16473866],\n",
              "       [0.16174111],\n",
              "       [0.1581525 ],\n",
              "       [0.15654817]])"
            ]
          },
          "metadata": {},
          "execution_count": 61
        }
      ]
    },
    {
      "cell_type": "code",
      "source": [
        "plt.plot(df1)"
      ],
      "metadata": {
        "colab": {
          "base_uri": "https://localhost:8080/",
          "height": 282
        },
        "id": "sHQdUKJ5n4N9",
        "outputId": "61ebbb64-04f6-47ae-e000-8eb4f8d86039"
      },
      "execution_count": 62,
      "outputs": [
        {
          "output_type": "execute_result",
          "data": {
            "text/plain": [
              "[<matplotlib.lines.Line2D at 0x7f43f6eff2d0>]"
            ]
          },
          "metadata": {},
          "execution_count": 62
        },
        {
          "output_type": "display_data",
          "data": {
            "text/plain": [
              "<Figure size 432x288 with 1 Axes>"
            ],
            "image/png": "[encoded data removed]"
          },
          "metadata": {
            "needs_background": "light"
          }
        }
      ]
    },
    {
      "cell_type": "markdown",
      "source": [
        "# Splitting"
      ],
      "metadata": {
        "id": "ZyXOdJpHn_2I"
      }
    },
    {
      "cell_type": "code",
      "source": [
        "size=int(len(df)*0.8)\n",
        "train_df=df1[:size]\n",
        "test_df=df1[size:]"
      ],
      "metadata": {
        "id": "Hb2TRfO-oDeQ"
      },
      "execution_count": 63,
      "outputs": []
    },
    {
      "cell_type": "code",
      "source": [
        "train_df.shape,test_df.shape"
      ],
      "metadata": {
        "colab": {
          "base_uri": "https://localhost:8080/"
        },
        "id": "8PoL-r3BxFdw",
        "outputId": "8cdc4484-7c6d-4160-f1de-44a9e6566de3"
      },
      "execution_count": 64,
      "outputs": [
        {
          "output_type": "execute_result",
          "data": {
            "text/plain": [
              "((1006, 1), (252, 1))"
            ]
          },
          "metadata": {},
          "execution_count": 64
        }
      ]
    },
    {
      "cell_type": "code",
      "source": [
        "def create_dataset(dataset, time_step=1):\n",
        "\tdataX, dataY = [], []\n",
        "\tfor i in range(len(dataset)-time_step-1):\n",
        "\t\ta = dataset[i:(i+time_step), 0]    \n",
        "\t\tdataX.append(a)\n",
        "\t\tdataY.append(dataset[i + time_step, 0])\n",
        "\treturn np.array(dataX), np.array(dataY)"
      ],
      "metadata": {
        "id": "I2TYNWBCoYWt"
      },
      "execution_count": 67,
      "outputs": []
    },
    {
      "cell_type": "code",
      "source": [
        "time_step = 100\n",
        "X_train, y_train = create_dataset(train_df, time_step)\n",
        "X_test, ytest = create_dataset(test_df, time_step)"
      ],
      "metadata": {
        "id": "3fSg63DSn4R2"
      },
      "execution_count": 68,
      "outputs": []
    },
    {
      "cell_type": "code",
      "source": [
        "X_train.shape,y_train.shape"
      ],
      "metadata": {
        "colab": {
          "base_uri": "https://localhost:8080/"
        },
        "id": "eVC6ThqCxfmo",
        "outputId": "d3972387-3848-489a-ed93-9d72c955bafa"
      },
      "execution_count": 69,
      "outputs": [
        {
          "output_type": "execute_result",
          "data": {
            "text/plain": [
              "((905, 100), (905,))"
            ]
          },
          "metadata": {},
          "execution_count": 69
        }
      ]
    },
    {
      "cell_type": "code",
      "source": [
        "X_train[0]"
      ],
      "metadata": {
        "colab": {
          "base_uri": "https://localhost:8080/"
        },
        "id": "fA3XSABMpEwd",
        "outputId": "889ca6b3-0adf-4f03-cb92-1c4135341405"
      },
      "execution_count": 70,
      "outputs": [
        {
          "output_type": "execute_result",
          "data": {
            "text/plain": [
              "array([0.17607447, 0.17495567, 0.16862282, 0.1696994 , 0.16727181,\n",
              "       0.16794731, 0.16473866, 0.16174111, 0.1581525 , 0.15654817,\n",
              "       0.16271215, 0.1614878 , 0.1554927 , 0.15443722, 0.15730811,\n",
              "       0.15604154, 0.15849025, 0.15308621, 0.15735033, 0.15490163,\n",
              "       0.15946129, 0.15688592, 0.1537195 , 0.14434687, 0.14812547,\n",
              "       0.15308621, 0.15241071, 0.15055307, 0.14924428, 0.13607194,\n",
              "       0.12551718, 0.13906949, 0.14911762, 0.14890653, 0.15401503,\n",
              "       0.16115005, 0.16583636, 0.17618002, 0.17060711, 0.14725998,\n",
              "       0.14700667, 0.14422021, 0.13691632, 0.13949168, 0.13784514,\n",
              "       0.13522756, 0.13071012, 0.11863548, 0.10259225, 0.1058009 ,\n",
              "       0.10466098, 0.10630752, 0.12403952, 0.09773706, 0.10512539,\n",
              "       0.10474542, 0.10816516, 0.11323144, 0.11044499, 0.10415435,\n",
              "       0.09419066, 0.06510175, 0.05395592, 0.0565735 , 0.08169383,\n",
              "       0.09533058, 0.09689268, 0.09465507, 0.07337668, 0.09288187,\n",
              "       0.08456472, 0.07992063, 0.09275521, 0.0836359 , 0.09385291,\n",
              "       0.10077683, 0.10542092, 0.10951617, 0.11006502, 0.09955248,\n",
              "       0.09756818, 0.10499873, 0.09735709, 0.10124124, 0.10411213,\n",
              "       0.10288778, 0.09330406, 0.07903403, 0.08426919, 0.08122942,\n",
              "       0.08460694, 0.0862957 , 0.08853331, 0.0862957 , 0.08089167,\n",
              "       0.09195305, 0.08975766, 0.09055982, 0.08388922, 0.09085536])"
            ]
          },
          "metadata": {},
          "execution_count": 70
        }
      ]
    },
    {
      "cell_type": "code",
      "source": [
        "y_train[0]"
      ],
      "metadata": {
        "colab": {
          "base_uri": "https://localhost:8080/"
        },
        "id": "9rRCAsxTpJnh",
        "outputId": "f61e0c80-e6d0-46ef-90cf-3d6120fdbd22"
      },
      "execution_count": 71,
      "outputs": [
        {
          "output_type": "execute_result",
          "data": {
            "text/plain": [
              "0.08739339694334208"
            ]
          },
          "metadata": {},
          "execution_count": 71
        }
      ]
    },
    {
      "cell_type": "code",
      "source": [
        "X_train.shape,y_train.shape"
      ],
      "metadata": {
        "colab": {
          "base_uri": "https://localhost:8080/"
        },
        "id": "lUI9eoo6prZ6",
        "outputId": "1c342696-2dcf-4eb6-de1b-08c9c912b963"
      },
      "execution_count": 72,
      "outputs": [
        {
          "output_type": "execute_result",
          "data": {
            "text/plain": [
              "((905, 100), (905,))"
            ]
          },
          "metadata": {},
          "execution_count": 72
        }
      ]
    },
    {
      "cell_type": "code",
      "source": [
        "X_train =X_train.reshape(X_train.shape[0],X_train.shape[1] , 1)\n",
        "X_test = X_test.reshape(X_test.shape[0],X_test.shape[1] , 1)"
      ],
      "metadata": {
        "id": "zmF2-Q_at7UU"
      },
      "execution_count": 73,
      "outputs": []
    },
    {
      "cell_type": "code",
      "source": [
        "X_train.shape,X_test.shape"
      ],
      "metadata": {
        "colab": {
          "base_uri": "https://localhost:8080/"
        },
        "id": "DRvPU8uZt96q",
        "outputId": "1d96d8e9-8b48-416f-ece8-b6650fc3e9bc"
      },
      "execution_count": 74,
      "outputs": [
        {
          "output_type": "execute_result",
          "data": {
            "text/plain": [
              "((905, 100, 1), (151, 100, 1))"
            ]
          },
          "metadata": {},
          "execution_count": 74
        }
      ]
    },
    {
      "cell_type": "code",
      "source": [
        "X_train[0]"
      ],
      "metadata": {
        "colab": {
          "base_uri": "https://localhost:8080/"
        },
        "id": "4VGAJUQ1uCBI",
        "outputId": "59ee9f2b-6d92-4d51-c880-3253501a0151"
      },
      "execution_count": 75,
      "outputs": [
        {
          "output_type": "execute_result",
          "data": {
            "text/plain": [
              "array([[0.17607447],\n",
              "       [0.17495567],\n",
              "       [0.16862282],\n",
              "       [0.1696994 ],\n",
              "       [0.16727181],\n",
              "       [0.16794731],\n",
              "       [0.16473866],\n",
              "       [0.16174111],\n",
              "       [0.1581525 ],\n",
              "       [0.15654817],\n",
              "       [0.16271215],\n",
              "       [0.1614878 ],\n",
              "       [0.1554927 ],\n",
              "       [0.15443722],\n",
              "       [0.15730811],\n",
              "       [0.15604154],\n",
              "       [0.15849025],\n",
              "       [0.15308621],\n",
              "       [0.15735033],\n",
              "       [0.15490163],\n",
              "       [0.15946129],\n",
              "       [0.15688592],\n",
              "       [0.1537195 ],\n",
              "       [0.14434687],\n",
              "       [0.14812547],\n",
              "       [0.15308621],\n",
              "       [0.15241071],\n",
              "       [0.15055307],\n",
              "       [0.14924428],\n",
              "       [0.13607194],\n",
              "       [0.12551718],\n",
              "       [0.13906949],\n",
              "       [0.14911762],\n",
              "       [0.14890653],\n",
              "       [0.15401503],\n",
              "       [0.16115005],\n",
              "       [0.16583636],\n",
              "       [0.17618002],\n",
              "       [0.17060711],\n",
              "       [0.14725998],\n",
              "       [0.14700667],\n",
              "       [0.14422021],\n",
              "       [0.13691632],\n",
              "       [0.13949168],\n",
              "       [0.13784514],\n",
              "       [0.13522756],\n",
              "       [0.13071012],\n",
              "       [0.11863548],\n",
              "       [0.10259225],\n",
              "       [0.1058009 ],\n",
              "       [0.10466098],\n",
              "       [0.10630752],\n",
              "       [0.12403952],\n",
              "       [0.09773706],\n",
              "       [0.10512539],\n",
              "       [0.10474542],\n",
              "       [0.10816516],\n",
              "       [0.11323144],\n",
              "       [0.11044499],\n",
              "       [0.10415435],\n",
              "       [0.09419066],\n",
              "       [0.06510175],\n",
              "       [0.05395592],\n",
              "       [0.0565735 ],\n",
              "       [0.08169383],\n",
              "       [0.09533058],\n",
              "       [0.09689268],\n",
              "       [0.09465507],\n",
              "       [0.07337668],\n",
              "       [0.09288187],\n",
              "       [0.08456472],\n",
              "       [0.07992063],\n",
              "       [0.09275521],\n",
              "       [0.0836359 ],\n",
              "       [0.09385291],\n",
              "       [0.10077683],\n",
              "       [0.10542092],\n",
              "       [0.10951617],\n",
              "       [0.11006502],\n",
              "       [0.09955248],\n",
              "       [0.09756818],\n",
              "       [0.10499873],\n",
              "       [0.09735709],\n",
              "       [0.10124124],\n",
              "       [0.10411213],\n",
              "       [0.10288778],\n",
              "       [0.09330406],\n",
              "       [0.07903403],\n",
              "       [0.08426919],\n",
              "       [0.08122942],\n",
              "       [0.08460694],\n",
              "       [0.0862957 ],\n",
              "       [0.08853331],\n",
              "       [0.0862957 ],\n",
              "       [0.08089167],\n",
              "       [0.09195305],\n",
              "       [0.08975766],\n",
              "       [0.09055982],\n",
              "       [0.08388922],\n",
              "       [0.09085536]])"
            ]
          },
          "metadata": {},
          "execution_count": 75
        }
      ]
    },
    {
      "cell_type": "markdown",
      "source": [
        "# Training"
      ],
      "metadata": {
        "id": "9WgVt-PF1jYn"
      }
    },
    {
      "cell_type": "code",
      "source": [
        "model=Sequential([\n",
        "    LSTM(50,return_sequences=True,input_shape=(100,1)),\n",
        "    LSTM(50,return_sequences=True),\n",
        "    LSTM(50),\n",
        "    Dense(1)\n",
        "    ])\n",
        "model.compile(loss='mean_squared_error',optimizer='adam')"
      ],
      "metadata": {
        "id": "D97ZTshjn4WI"
      },
      "execution_count": 76,
      "outputs": []
    },
    {
      "cell_type": "code",
      "source": [
        "model.summary()"
      ],
      "metadata": {
        "colab": {
          "base_uri": "https://localhost:8080/"
        },
        "id": "c9OWHtjon4Zn",
        "outputId": "6cb3019a-d018-4b68-879a-84b2820616f8"
      },
      "execution_count": 77,
      "outputs": [
        {
          "output_type": "stream",
          "name": "stdout",
          "text": [
            "Model: \"sequential_1\"\n",
            "_________________________________________________________________\n",
            " Layer (type)                Output Shape              Param #   \n",
            "=================================================================\n",
            " lstm_3 (LSTM)               (None, 100, 50)           10400     \n",
            "                                                                 \n",
            " lstm_4 (LSTM)               (None, 100, 50)           20200     \n",
            "                                                                 \n",
            " lstm_5 (LSTM)               (None, 50)                20200     \n",
            "                                                                 \n",
            " dense_1 (Dense)             (None, 1)                 51        \n",
            "                                                                 \n",
            "=================================================================\n",
            "Total params: 50,851\n",
            "Trainable params: 50,851\n",
            "Non-trainable params: 0\n",
            "_________________________________________________________________\n"
          ]
        }
      ]
    },
    {
      "cell_type": "code",
      "source": [
        "model.fit(X_train,y_train,validation_data=(X_test,ytest),epochs=100,batch_size=64,verbose=1)"
      ],
      "metadata": {
        "colab": {
          "base_uri": "https://localhost:8080/"
        },
        "id": "GK2uvkhnqGBq",
        "outputId": "63d1f8d9-b4cc-46c6-de4e-bbbf0dd3a7dd"
      },
      "execution_count": 85,
      "outputs": [
        {
          "output_type": "stream",
          "name": "stdout",
          "text": [
            "Epoch 1/100\n",
            "15/15 [==============================] - 10s 303ms/step - loss: 0.0208 - val_loss: 0.1191\n",
            "Epoch 2/100\n",
            "15/15 [==============================] - 3s 193ms/step - loss: 0.0042 - val_loss: 0.0248\n",
            "Epoch 3/100\n",
            "15/15 [==============================] - 3s 190ms/step - loss: 0.0013 - val_loss: 0.0071\n",
            "Epoch 4/100\n",
            "15/15 [==============================] - 3s 181ms/step - loss: 0.0011 - val_loss: 0.0084\n",
            "Epoch 5/100\n",
            "15/15 [==============================] - 3s 187ms/step - loss: 9.5824e-04 - val_loss: 0.0095\n",
            "Epoch 6/100\n",
            "15/15 [==============================] - 3s 184ms/step - loss: 9.5655e-04 - val_loss: 0.0078\n",
            "Epoch 7/100\n",
            "15/15 [==============================] - 3s 185ms/step - loss: 9.0056e-04 - val_loss: 0.0079\n",
            "Epoch 8/100\n",
            "15/15 [==============================] - 3s 184ms/step - loss: 8.7991e-04 - val_loss: 0.0097\n",
            "Epoch 9/100\n",
            "15/15 [==============================] - 3s 178ms/step - loss: 8.3344e-04 - val_loss: 0.0084\n",
            "Epoch 10/100\n",
            "15/15 [==============================] - 3s 185ms/step - loss: 8.0543e-04 - val_loss: 0.0095\n",
            "Epoch 11/100\n",
            "15/15 [==============================] - 3s 187ms/step - loss: 7.4181e-04 - val_loss: 0.0051\n",
            "Epoch 12/100\n",
            "15/15 [==============================] - 3s 188ms/step - loss: 8.7301e-04 - val_loss: 0.0137\n",
            "Epoch 13/100\n",
            "15/15 [==============================] - 3s 191ms/step - loss: 7.5389e-04 - val_loss: 0.0068\n",
            "Epoch 14/100\n",
            "15/15 [==============================] - 3s 185ms/step - loss: 6.5129e-04 - val_loss: 0.0096\n",
            "Epoch 15/100\n",
            "15/15 [==============================] - 3s 190ms/step - loss: 5.9829e-04 - val_loss: 0.0106\n",
            "Epoch 16/100\n",
            "15/15 [==============================] - 3s 187ms/step - loss: 5.7940e-04 - val_loss: 0.0089\n",
            "Epoch 17/100\n",
            "15/15 [==============================] - 3s 186ms/step - loss: 5.8852e-04 - val_loss: 0.0046\n",
            "Epoch 18/100\n",
            "15/15 [==============================] - 3s 192ms/step - loss: 5.8957e-04 - val_loss: 0.0067\n",
            "Epoch 19/100\n",
            "15/15 [==============================] - 3s 197ms/step - loss: 6.0081e-04 - val_loss: 0.0074\n",
            "Epoch 20/100\n",
            "15/15 [==============================] - 3s 190ms/step - loss: 5.4523e-04 - val_loss: 0.0162\n",
            "Epoch 21/100\n",
            "15/15 [==============================] - 3s 197ms/step - loss: 5.8061e-04 - val_loss: 0.0082\n",
            "Epoch 22/100\n",
            "15/15 [==============================] - 3s 197ms/step - loss: 5.0630e-04 - val_loss: 0.0082\n",
            "Epoch 23/100\n",
            "15/15 [==============================] - 3s 196ms/step - loss: 5.0328e-04 - val_loss: 0.0060\n",
            "Epoch 24/100\n",
            "15/15 [==============================] - 3s 184ms/step - loss: 4.9967e-04 - val_loss: 0.0080\n",
            "Epoch 25/100\n",
            "15/15 [==============================] - 3s 189ms/step - loss: 4.9383e-04 - val_loss: 0.0053\n",
            "Epoch 26/100\n",
            "15/15 [==============================] - 3s 184ms/step - loss: 4.8798e-04 - val_loss: 0.0052\n",
            "Epoch 27/100\n",
            "15/15 [==============================] - 3s 190ms/step - loss: 4.7023e-04 - val_loss: 0.0050\n",
            "Epoch 28/100\n",
            "15/15 [==============================] - 3s 189ms/step - loss: 5.3155e-04 - val_loss: 0.0068\n",
            "Epoch 29/100\n",
            "15/15 [==============================] - 3s 192ms/step - loss: 4.6820e-04 - val_loss: 0.0036\n",
            "Epoch 30/100\n",
            "15/15 [==============================] - 3s 196ms/step - loss: 4.6710e-04 - val_loss: 0.0083\n",
            "Epoch 31/100\n",
            "15/15 [==============================] - 3s 198ms/step - loss: 4.5972e-04 - val_loss: 0.0056\n",
            "Epoch 32/100\n",
            "15/15 [==============================] - 3s 188ms/step - loss: 4.3855e-04 - val_loss: 0.0054\n",
            "Epoch 33/100\n",
            "15/15 [==============================] - 3s 187ms/step - loss: 4.3935e-04 - val_loss: 0.0057\n",
            "Epoch 34/100\n",
            "15/15 [==============================] - 3s 188ms/step - loss: 4.4094e-04 - val_loss: 0.0053\n",
            "Epoch 35/100\n",
            "15/15 [==============================] - 3s 199ms/step - loss: 4.3882e-04 - val_loss: 0.0074\n",
            "Epoch 36/100\n",
            "15/15 [==============================] - 3s 191ms/step - loss: 4.6091e-04 - val_loss: 0.0122\n",
            "Epoch 37/100\n",
            "15/15 [==============================] - 3s 193ms/step - loss: 5.6458e-04 - val_loss: 0.0105\n",
            "Epoch 38/100\n",
            "15/15 [==============================] - 3s 198ms/step - loss: 4.3203e-04 - val_loss: 0.0106\n",
            "Epoch 39/100\n",
            "15/15 [==============================] - 3s 190ms/step - loss: 4.4877e-04 - val_loss: 0.0087\n",
            "Epoch 40/100\n",
            "15/15 [==============================] - 3s 203ms/step - loss: 4.2099e-04 - val_loss: 0.0092\n",
            "Epoch 41/100\n",
            "15/15 [==============================] - 3s 196ms/step - loss: 5.3568e-04 - val_loss: 0.0133\n",
            "Epoch 42/100\n",
            "15/15 [==============================] - 3s 202ms/step - loss: 6.4308e-04 - val_loss: 0.0044\n",
            "Epoch 43/100\n",
            "15/15 [==============================] - 3s 188ms/step - loss: 4.1174e-04 - val_loss: 0.0045\n",
            "Epoch 44/100\n",
            "15/15 [==============================] - 3s 187ms/step - loss: 4.1753e-04 - val_loss: 0.0048\n",
            "Epoch 45/100\n",
            "15/15 [==============================] - 3s 189ms/step - loss: 3.9207e-04 - val_loss: 0.0026\n",
            "Epoch 46/100\n",
            "15/15 [==============================] - 3s 190ms/step - loss: 4.3005e-04 - val_loss: 0.0035\n",
            "Epoch 47/100\n",
            "15/15 [==============================] - 3s 202ms/step - loss: 3.8557e-04 - val_loss: 0.0063\n",
            "Epoch 48/100\n",
            "15/15 [==============================] - 3s 198ms/step - loss: 3.6418e-04 - val_loss: 0.0026\n",
            "Epoch 49/100\n",
            "15/15 [==============================] - 3s 195ms/step - loss: 3.6171e-04 - val_loss: 0.0065\n",
            "Epoch 50/100\n",
            "15/15 [==============================] - 3s 188ms/step - loss: 3.8607e-04 - val_loss: 0.0066\n",
            "Epoch 51/100\n",
            "15/15 [==============================] - 3s 190ms/step - loss: 3.6786e-04 - val_loss: 0.0045\n",
            "Epoch 52/100\n",
            "15/15 [==============================] - 3s 194ms/step - loss: 3.8263e-04 - val_loss: 0.0053\n",
            "Epoch 53/100\n",
            "15/15 [==============================] - 3s 194ms/step - loss: 3.8315e-04 - val_loss: 0.0020\n",
            "Epoch 54/100\n",
            "15/15 [==============================] - 3s 192ms/step - loss: 3.9721e-04 - val_loss: 0.0020\n",
            "Epoch 55/100\n",
            "15/15 [==============================] - 3s 193ms/step - loss: 4.9437e-04 - val_loss: 0.0041\n",
            "Epoch 56/100\n",
            "15/15 [==============================] - 3s 186ms/step - loss: 3.3520e-04 - val_loss: 0.0064\n",
            "Epoch 57/100\n",
            "15/15 [==============================] - 3s 193ms/step - loss: 3.5881e-04 - val_loss: 0.0064\n",
            "Epoch 58/100\n",
            "15/15 [==============================] - 3s 194ms/step - loss: 3.3528e-04 - val_loss: 0.0035\n",
            "Epoch 59/100\n",
            "15/15 [==============================] - 3s 184ms/step - loss: 3.1158e-04 - val_loss: 0.0063\n",
            "Epoch 60/100\n",
            "15/15 [==============================] - 3s 187ms/step - loss: 3.4184e-04 - val_loss: 0.0059\n",
            "Epoch 61/100\n",
            "15/15 [==============================] - 3s 189ms/step - loss: 3.3274e-04 - val_loss: 0.0028\n",
            "Epoch 62/100\n",
            "15/15 [==============================] - 3s 192ms/step - loss: 2.8975e-04 - val_loss: 0.0048\n",
            "Epoch 63/100\n",
            "15/15 [==============================] - 3s 194ms/step - loss: 2.9473e-04 - val_loss: 0.0026\n",
            "Epoch 64/100\n",
            "15/15 [==============================] - 3s 193ms/step - loss: 2.9608e-04 - val_loss: 0.0032\n",
            "Epoch 65/100\n",
            "15/15 [==============================] - 3s 193ms/step - loss: 2.9285e-04 - val_loss: 0.0069\n",
            "Epoch 66/100\n",
            "15/15 [==============================] - 3s 193ms/step - loss: 3.3685e-04 - val_loss: 0.0031\n",
            "Epoch 67/100\n",
            "15/15 [==============================] - 3s 188ms/step - loss: 2.8744e-04 - val_loss: 0.0029\n",
            "Epoch 68/100\n",
            "15/15 [==============================] - 3s 190ms/step - loss: 3.1521e-04 - val_loss: 0.0020\n",
            "Epoch 69/100\n",
            "15/15 [==============================] - 3s 185ms/step - loss: 2.7458e-04 - val_loss: 0.0036\n",
            "Epoch 70/100\n",
            "15/15 [==============================] - 3s 188ms/step - loss: 3.0240e-04 - val_loss: 0.0020\n",
            "Epoch 71/100\n",
            "15/15 [==============================] - 3s 192ms/step - loss: 2.8275e-04 - val_loss: 0.0024\n",
            "Epoch 72/100\n",
            "15/15 [==============================] - 3s 194ms/step - loss: 2.6049e-04 - val_loss: 0.0028\n",
            "Epoch 73/100\n",
            "15/15 [==============================] - 3s 195ms/step - loss: 2.7968e-04 - val_loss: 0.0028\n",
            "Epoch 74/100\n",
            "15/15 [==============================] - 3s 191ms/step - loss: 2.4492e-04 - val_loss: 0.0027\n",
            "Epoch 75/100\n",
            "15/15 [==============================] - 3s 202ms/step - loss: 2.5796e-04 - val_loss: 0.0025\n",
            "Epoch 76/100\n",
            "15/15 [==============================] - 3s 194ms/step - loss: 2.6695e-04 - val_loss: 0.0022\n",
            "Epoch 77/100\n",
            "15/15 [==============================] - 3s 188ms/step - loss: 2.6616e-04 - val_loss: 0.0020\n",
            "Epoch 78/100\n",
            "15/15 [==============================] - 3s 187ms/step - loss: 2.5017e-04 - val_loss: 0.0019\n",
            "Epoch 79/100\n",
            "15/15 [==============================] - 3s 185ms/step - loss: 2.6659e-04 - val_loss: 0.0015\n",
            "Epoch 80/100\n",
            "15/15 [==============================] - 3s 182ms/step - loss: 3.2710e-04 - val_loss: 0.0031\n",
            "Epoch 81/100\n",
            "15/15 [==============================] - 3s 190ms/step - loss: 2.4100e-04 - val_loss: 0.0016\n",
            "Epoch 82/100\n",
            "15/15 [==============================] - 3s 195ms/step - loss: 2.6357e-04 - val_loss: 0.0022\n",
            "Epoch 83/100\n",
            "15/15 [==============================] - 3s 196ms/step - loss: 2.6962e-04 - val_loss: 0.0039\n",
            "Epoch 84/100\n",
            "15/15 [==============================] - 3s 185ms/step - loss: 2.4700e-04 - val_loss: 0.0024\n",
            "Epoch 85/100\n",
            "15/15 [==============================] - 3s 190ms/step - loss: 2.3046e-04 - val_loss: 0.0020\n",
            "Epoch 86/100\n",
            "15/15 [==============================] - 3s 192ms/step - loss: 2.2421e-04 - val_loss: 0.0035\n",
            "Epoch 87/100\n",
            "15/15 [==============================] - 3s 200ms/step - loss: 2.6962e-04 - val_loss: 0.0055\n",
            "Epoch 88/100\n",
            "15/15 [==============================] - 3s 193ms/step - loss: 2.9454e-04 - val_loss: 0.0038\n",
            "Epoch 89/100\n",
            "15/15 [==============================] - 3s 190ms/step - loss: 2.5990e-04 - val_loss: 0.0033\n",
            "Epoch 90/100\n",
            "15/15 [==============================] - 3s 184ms/step - loss: 2.6305e-04 - val_loss: 0.0045\n",
            "Epoch 91/100\n",
            "15/15 [==============================] - 3s 189ms/step - loss: 2.4532e-04 - val_loss: 0.0018\n",
            "Epoch 92/100\n",
            "15/15 [==============================] - 3s 198ms/step - loss: 2.1163e-04 - val_loss: 0.0013\n",
            "Epoch 93/100\n",
            "15/15 [==============================] - 3s 195ms/step - loss: 2.3347e-04 - val_loss: 0.0021\n",
            "Epoch 94/100\n",
            "15/15 [==============================] - 3s 187ms/step - loss: 2.1234e-04 - val_loss: 0.0020\n",
            "Epoch 95/100\n",
            "15/15 [==============================] - 3s 184ms/step - loss: 2.1748e-04 - val_loss: 0.0014\n",
            "Epoch 96/100\n",
            "15/15 [==============================] - 3s 187ms/step - loss: 2.1407e-04 - val_loss: 0.0013\n",
            "Epoch 97/100\n",
            "15/15 [==============================] - 3s 182ms/step - loss: 2.1257e-04 - val_loss: 0.0020\n",
            "Epoch 98/100\n",
            "15/15 [==============================] - 3s 188ms/step - loss: 2.0914e-04 - val_loss: 0.0033\n",
            "Epoch 99/100\n",
            "15/15 [==============================] - 3s 196ms/step - loss: 2.2384e-04 - val_loss: 0.0013\n",
            "Epoch 100/100\n",
            "15/15 [==============================] - 3s 185ms/step - loss: 2.1492e-04 - val_loss: 0.0013\n"
          ]
        },
        {
          "output_type": "execute_result",
          "data": {
            "text/plain": [
              "<keras.callbacks.History at 0x7f43f1686250>"
            ]
          },
          "metadata": {},
          "execution_count": 85
        }
      ]
    },
    {
      "cell_type": "markdown",
      "source": [
        "#Prediction"
      ],
      "metadata": {
        "id": "5gOZe1CI1rx1"
      }
    },
    {
      "cell_type": "code",
      "source": [
        "train_pred=model.predict(X_train)\n",
        "test_pred=model.predict(X_test)"
      ],
      "metadata": {
        "id": "TTZKjDz5qGFN"
      },
      "execution_count": 86,
      "outputs": []
    },
    {
      "cell_type": "code",
      "source": [
        "train_pred=scaler.inverse_transform(train_pred)\n",
        "test_pred=scaler.inverse_transform(test_pred)"
      ],
      "metadata": {
        "id": "YyxRv58jv5-W"
      },
      "execution_count": 87,
      "outputs": []
    },
    {
      "cell_type": "code",
      "source": [
        "X_train.shape,y_train.shape"
      ],
      "metadata": {
        "colab": {
          "base_uri": "https://localhost:8080/"
        },
        "id": "FdIy6YWNzBc0",
        "outputId": "dda18bd2-e48d-4972-c45d-b4672e8359e8"
      },
      "execution_count": 88,
      "outputs": [
        {
          "output_type": "execute_result",
          "data": {
            "text/plain": [
              "((905, 100, 1), (905,))"
            ]
          },
          "metadata": {},
          "execution_count": 88
        }
      ]
    },
    {
      "cell_type": "code",
      "source": [
        "mean_squared_error(scaler.inverse_transform(y_train.reshape(-1,1)),train_pred)"
      ],
      "metadata": {
        "colab": {
          "base_uri": "https://localhost:8080/"
        },
        "id": "-akGJ4I1wJM_",
        "outputId": "74f1be4d-e1fb-4ce8-fabb-d58975a00e4c"
      },
      "execution_count": 89,
      "outputs": [
        {
          "output_type": "execute_result",
          "data": {
            "text/plain": [
              "12.9759874671921"
            ]
          },
          "metadata": {},
          "execution_count": 89
        }
      ]
    },
    {
      "cell_type": "code",
      "source": [
        "scaler.inverse_transform(y_train[0].reshape(1,-1)),train_pred[0]"
      ],
      "metadata": {
        "id": "Y3WaF_NJqGIn",
        "colab": {
          "base_uri": "https://localhost:8080/"
        },
        "outputId": "eeafcfb0-3669-4d51-f420-0212458ecd8f"
      },
      "execution_count": 84,
      "outputs": [
        {
          "output_type": "execute_result",
          "data": {
            "text/plain": [
              "(array([[111.04]]), array([91.693184], dtype=float32))"
            ]
          },
          "metadata": {},
          "execution_count": 84
        }
      ]
    },
    {
      "cell_type": "code",
      "source": [
        "df1[:2]"
      ],
      "metadata": {
        "colab": {
          "base_uri": "https://localhost:8080/"
        },
        "id": "OqcvPmwR9OsO",
        "outputId": "a6b829bf-ecc0-45f3-db9f-735f684cc728"
      },
      "execution_count": 102,
      "outputs": [
        {
          "output_type": "execute_result",
          "data": {
            "text/plain": [
              "array([[0.17607447],\n",
              "       [0.17495567]])"
            ]
          },
          "metadata": {},
          "execution_count": 102
        }
      ]
    },
    {
      "cell_type": "code",
      "source": [
        "df_plot=pd.DataFrame()"
      ],
      "metadata": {
        "id": "QHGr7AVYqGKN"
      },
      "execution_count": 106,
      "outputs": []
    },
    {
      "cell_type": "code",
      "source": [
        "look_back=100\n",
        "trainPredictPlot = np.empty_like(df1)\n",
        "trainPredictPlot[:, :] = np.nan\n",
        "trainPredictPlot[look_back:len(train_pred)+look_back, :] = train_pred\n",
        "\n",
        "testPredictPlot = np.empty_like(df1)\n",
        "testPredictPlot[:, :] = np.nan\n",
        "testPredictPlot[len(train_pred)+(look_back*2)+1:len(df1)-1, :] = test_pred\n",
        "\n",
        "plt.figure(figsize=(15,5))\n",
        "plt.plot(scaler.inverse_transform(df1))\n",
        "plt.plot(trainPredictPlot)\n",
        "plt.plot(testPredictPlot)\n",
        "plt.show()"
      ],
      "metadata": {
        "colab": {
          "base_uri": "https://localhost:8080/",
          "height": 320
        },
        "id": "ftXoLczh-RFF",
        "outputId": "0e2e5043-94aa-4770-d981-63340f45b8e5"
      },
      "execution_count": 133,
      "outputs": [
        {
          "output_type": "display_data",
          "data": {
            "text/plain": [
              "<Figure size 1080x360 with 1 Axes>"
            ],
            "image/png": "[encoded data removed]"
          },
          "metadata": {
            "needs_background": "light"
          }
        }
      ]
    }
  ]
}